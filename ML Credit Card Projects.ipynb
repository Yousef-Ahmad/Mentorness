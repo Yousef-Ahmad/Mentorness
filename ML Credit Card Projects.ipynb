{
 "cells": [
  {
   "cell_type": "code",
   "execution_count": 5,
   "metadata": {},
   "outputs": [],
   "source": [
    "import pandas as pd\n",
    "from sklearn.model_selection import train_test_split\n",
    "from sklearn.ensemble import RandomForestClassifier\n",
    "from sklearn.preprocessing import StandardScaler\n",
    "from sklearn.metrics import accuracy_score, classification_report, confusion_matrix\n",
    "import matplotlib.pyplot as plt\n",
    "import seaborn as sns\n",
    "from sklearn.preprocessing import OneHotEncoder\n",
    "from sklearn.ensemble import RandomForestClassifier\n",
    "from sklearn.metrics import accuracy_score, classification_report"
   ]
  },
  {
   "cell_type": "code",
   "execution_count": 6,
   "metadata": {},
   "outputs": [],
   "source": [
    "# Load the data\n",
    "training_data = pd.read_csv(r\"C:\\Users\\youse\\Desktop\\ML PROJECT INDIA\\train_data.csv\")\n",
    "testing_data = pd.read_csv(r\"C:\\Users\\youse\\Desktop\\ML PROJECT INDIA\\test_data.csv\")"
   ]
  },
  {
   "cell_type": "code",
   "execution_count": 7,
   "metadata": {},
   "outputs": [
    {
     "name": "stdout",
     "output_type": "stream",
     "text": [
      "Training Data Shape: (29165, 20)\n"
     ]
    },
    {
     "data": {
      "text/html": [
       "<div>\n",
       "<style scoped>\n",
       "    .dataframe tbody tr th:only-of-type {\n",
       "        vertical-align: middle;\n",
       "    }\n",
       "\n",
       "    .dataframe tbody tr th {\n",
       "        vertical-align: top;\n",
       "    }\n",
       "\n",
       "    .dataframe thead th {\n",
       "        text-align: right;\n",
       "    }\n",
       "</style>\n",
       "<table border=\"1\" class=\"dataframe\">\n",
       "  <thead>\n",
       "    <tr style=\"text-align: right;\">\n",
       "      <th></th>\n",
       "      <th>ID</th>\n",
       "      <th>Gender</th>\n",
       "      <th>Has a car</th>\n",
       "      <th>Has a property</th>\n",
       "      <th>Children count</th>\n",
       "      <th>Income</th>\n",
       "      <th>Employment status</th>\n",
       "      <th>Education level</th>\n",
       "      <th>Marital status</th>\n",
       "      <th>Dwelling</th>\n",
       "      <th>Age</th>\n",
       "      <th>Employment length</th>\n",
       "      <th>Has a mobile phone</th>\n",
       "      <th>Has a work phone</th>\n",
       "      <th>Has a phone</th>\n",
       "      <th>Has an email</th>\n",
       "      <th>Job title</th>\n",
       "      <th>Family member count</th>\n",
       "      <th>Account age</th>\n",
       "      <th>Is high risk</th>\n",
       "    </tr>\n",
       "  </thead>\n",
       "  <tbody>\n",
       "    <tr>\n",
       "      <th>0</th>\n",
       "      <td>5037048</td>\n",
       "      <td>M</td>\n",
       "      <td>Y</td>\n",
       "      <td>Y</td>\n",
       "      <td>0</td>\n",
       "      <td>135000.0</td>\n",
       "      <td>Working</td>\n",
       "      <td>Secondary / secondary special</td>\n",
       "      <td>Married</td>\n",
       "      <td>With parents</td>\n",
       "      <td>-16271</td>\n",
       "      <td>-3111</td>\n",
       "      <td>1</td>\n",
       "      <td>0</td>\n",
       "      <td>0</td>\n",
       "      <td>0</td>\n",
       "      <td>Core staff</td>\n",
       "      <td>2.0</td>\n",
       "      <td>-17.0</td>\n",
       "      <td>0</td>\n",
       "    </tr>\n",
       "    <tr>\n",
       "      <th>1</th>\n",
       "      <td>5044630</td>\n",
       "      <td>F</td>\n",
       "      <td>Y</td>\n",
       "      <td>N</td>\n",
       "      <td>1</td>\n",
       "      <td>135000.0</td>\n",
       "      <td>Commercial associate</td>\n",
       "      <td>Higher education</td>\n",
       "      <td>Single / not married</td>\n",
       "      <td>House / apartment</td>\n",
       "      <td>-10130</td>\n",
       "      <td>-1651</td>\n",
       "      <td>1</td>\n",
       "      <td>0</td>\n",
       "      <td>0</td>\n",
       "      <td>0</td>\n",
       "      <td>Accountants</td>\n",
       "      <td>2.0</td>\n",
       "      <td>-1.0</td>\n",
       "      <td>0</td>\n",
       "    </tr>\n",
       "    <tr>\n",
       "      <th>2</th>\n",
       "      <td>5079079</td>\n",
       "      <td>F</td>\n",
       "      <td>N</td>\n",
       "      <td>Y</td>\n",
       "      <td>2</td>\n",
       "      <td>180000.0</td>\n",
       "      <td>Commercial associate</td>\n",
       "      <td>Secondary / secondary special</td>\n",
       "      <td>Married</td>\n",
       "      <td>House / apartment</td>\n",
       "      <td>-12821</td>\n",
       "      <td>-5657</td>\n",
       "      <td>1</td>\n",
       "      <td>0</td>\n",
       "      <td>0</td>\n",
       "      <td>0</td>\n",
       "      <td>Laborers</td>\n",
       "      <td>4.0</td>\n",
       "      <td>-38.0</td>\n",
       "      <td>0</td>\n",
       "    </tr>\n",
       "    <tr>\n",
       "      <th>3</th>\n",
       "      <td>5112872</td>\n",
       "      <td>F</td>\n",
       "      <td>Y</td>\n",
       "      <td>Y</td>\n",
       "      <td>0</td>\n",
       "      <td>360000.0</td>\n",
       "      <td>Commercial associate</td>\n",
       "      <td>Higher education</td>\n",
       "      <td>Single / not married</td>\n",
       "      <td>House / apartment</td>\n",
       "      <td>-20929</td>\n",
       "      <td>-2046</td>\n",
       "      <td>1</td>\n",
       "      <td>0</td>\n",
       "      <td>0</td>\n",
       "      <td>1</td>\n",
       "      <td>Managers</td>\n",
       "      <td>1.0</td>\n",
       "      <td>-11.0</td>\n",
       "      <td>0</td>\n",
       "    </tr>\n",
       "    <tr>\n",
       "      <th>4</th>\n",
       "      <td>5105858</td>\n",
       "      <td>F</td>\n",
       "      <td>N</td>\n",
       "      <td>N</td>\n",
       "      <td>0</td>\n",
       "      <td>270000.0</td>\n",
       "      <td>Working</td>\n",
       "      <td>Secondary / secondary special</td>\n",
       "      <td>Separated</td>\n",
       "      <td>House / apartment</td>\n",
       "      <td>-16207</td>\n",
       "      <td>-515</td>\n",
       "      <td>1</td>\n",
       "      <td>0</td>\n",
       "      <td>1</td>\n",
       "      <td>0</td>\n",
       "      <td>NaN</td>\n",
       "      <td>1.0</td>\n",
       "      <td>-41.0</td>\n",
       "      <td>0</td>\n",
       "    </tr>\n",
       "  </tbody>\n",
       "</table>\n",
       "</div>"
      ],
      "text/plain": [
       "        ID Gender Has a car Has a property  Children count    Income  \\\n",
       "0  5037048      M         Y              Y               0  135000.0   \n",
       "1  5044630      F         Y              N               1  135000.0   \n",
       "2  5079079      F         N              Y               2  180000.0   \n",
       "3  5112872      F         Y              Y               0  360000.0   \n",
       "4  5105858      F         N              N               0  270000.0   \n",
       "\n",
       "      Employment status                Education level        Marital status  \\\n",
       "0               Working  Secondary / secondary special               Married   \n",
       "1  Commercial associate               Higher education  Single / not married   \n",
       "2  Commercial associate  Secondary / secondary special               Married   \n",
       "3  Commercial associate               Higher education  Single / not married   \n",
       "4               Working  Secondary / secondary special             Separated   \n",
       "\n",
       "            Dwelling    Age  Employment length  Has a mobile phone  \\\n",
       "0       With parents -16271              -3111                   1   \n",
       "1  House / apartment -10130              -1651                   1   \n",
       "2  House / apartment -12821              -5657                   1   \n",
       "3  House / apartment -20929              -2046                   1   \n",
       "4  House / apartment -16207               -515                   1   \n",
       "\n",
       "   Has a work phone  Has a phone  Has an email    Job title  \\\n",
       "0                 0            0             0   Core staff   \n",
       "1                 0            0             0  Accountants   \n",
       "2                 0            0             0     Laborers   \n",
       "3                 0            0             1     Managers   \n",
       "4                 0            1             0          NaN   \n",
       "\n",
       "   Family member count  Account age  Is high risk  \n",
       "0                  2.0        -17.0             0  \n",
       "1                  2.0         -1.0             0  \n",
       "2                  4.0        -38.0             0  \n",
       "3                  1.0        -11.0             0  \n",
       "4                  1.0        -41.0             0  "
      ]
     },
     "execution_count": 7,
     "metadata": {},
     "output_type": "execute_result"
    }
   ],
   "source": [
    "# EDA\n",
    "print(\"Training Data Shape:\", training_data.shape)\n",
    "training_data.head()"
   ]
  },
  {
   "cell_type": "code",
   "execution_count": 8,
   "metadata": {},
   "outputs": [
    {
     "name": "stdout",
     "output_type": "stream",
     "text": [
      "<class 'pandas.core.frame.DataFrame'>\n",
      "RangeIndex: 29165 entries, 0 to 29164\n",
      "Data columns (total 20 columns):\n",
      " #   Column               Non-Null Count  Dtype  \n",
      "---  ------               --------------  -----  \n",
      " 0   ID                   29165 non-null  int64  \n",
      " 1   Gender               29165 non-null  object \n",
      " 2   Has a car            29165 non-null  object \n",
      " 3   Has a property       29165 non-null  object \n",
      " 4   Children count       29165 non-null  int64  \n",
      " 5   Income               29165 non-null  float64\n",
      " 6   Employment status    29165 non-null  object \n",
      " 7   Education level      29165 non-null  object \n",
      " 8   Marital status       29165 non-null  object \n",
      " 9   Dwelling             29165 non-null  object \n",
      " 10  Age                  29165 non-null  int64  \n",
      " 11  Employment length    29165 non-null  int64  \n",
      " 12  Has a mobile phone   29165 non-null  int64  \n",
      " 13  Has a work phone     29165 non-null  int64  \n",
      " 14  Has a phone          29165 non-null  int64  \n",
      " 15  Has an email         29165 non-null  int64  \n",
      " 16  Job title            20138 non-null  object \n",
      " 17  Family member count  29165 non-null  float64\n",
      " 18  Account age          29165 non-null  float64\n",
      " 19  Is high risk         29165 non-null  int64  \n",
      "dtypes: float64(3), int64(9), object(8)\n",
      "memory usage: 4.5+ MB\n"
     ]
    }
   ],
   "source": [
    "training_data.info()"
   ]
  },
  {
   "cell_type": "code",
   "execution_count": 9,
   "metadata": {},
   "outputs": [
    {
     "name": "stdout",
     "output_type": "stream",
     "text": [
      "Missing values in training data:\n",
      "ID                        0\n",
      "Gender                    0\n",
      "Has a car                 0\n",
      "Has a property            0\n",
      "Children count            0\n",
      "Income                    0\n",
      "Employment status         0\n",
      "Education level           0\n",
      "Marital status            0\n",
      "Dwelling                  0\n",
      "Age                       0\n",
      "Employment length         0\n",
      "Has a mobile phone        0\n",
      "Has a work phone          0\n",
      "Has a phone               0\n",
      "Has an email              0\n",
      "Job title              9027\n",
      "Family member count       0\n",
      "Account age               0\n",
      "Is high risk              0\n",
      "dtype: int64\n"
     ]
    }
   ],
   "source": [
    "print(\"Missing values in training data:\")\n",
    "print(training_data.isnull().sum())\n",
    "\n"
   ]
  },
  {
   "cell_type": "code",
   "execution_count": 10,
   "metadata": {},
   "outputs": [],
   "source": [
    "# Feature Engineering\n",
    "training_data['Job title'].fillna('Unknown', inplace=True)"
   ]
  },
  {
   "cell_type": "code",
   "execution_count": 11,
   "metadata": {},
   "outputs": [
    {
     "name": "stdout",
     "output_type": "stream",
     "text": [
      "Missing values in training data:\n",
      "ID                     0\n",
      "Gender                 0\n",
      "Has a car              0\n",
      "Has a property         0\n",
      "Children count         0\n",
      "Income                 0\n",
      "Employment status      0\n",
      "Education level        0\n",
      "Marital status         0\n",
      "Dwelling               0\n",
      "Age                    0\n",
      "Employment length      0\n",
      "Has a mobile phone     0\n",
      "Has a work phone       0\n",
      "Has a phone            0\n",
      "Has an email           0\n",
      "Job title              0\n",
      "Family member count    0\n",
      "Account age            0\n",
      "Is high risk           0\n",
      "dtype: int64\n"
     ]
    }
   ],
   "source": [
    "print(\"Missing values in training data:\")\n",
    "print(training_data.isnull().sum())\n",
    "\n"
   ]
  },
  {
   "cell_type": "code",
   "execution_count": 12,
   "metadata": {},
   "outputs": [
    {
     "name": "stdout",
     "output_type": "stream",
     "text": [
      "Testing Data Shape: (7292, 20)\n"
     ]
    },
    {
     "data": {
      "text/html": [
       "<div>\n",
       "<style scoped>\n",
       "    .dataframe tbody tr th:only-of-type {\n",
       "        vertical-align: middle;\n",
       "    }\n",
       "\n",
       "    .dataframe tbody tr th {\n",
       "        vertical-align: top;\n",
       "    }\n",
       "\n",
       "    .dataframe thead th {\n",
       "        text-align: right;\n",
       "    }\n",
       "</style>\n",
       "<table border=\"1\" class=\"dataframe\">\n",
       "  <thead>\n",
       "    <tr style=\"text-align: right;\">\n",
       "      <th></th>\n",
       "      <th>ID</th>\n",
       "      <th>Gender</th>\n",
       "      <th>Has a car</th>\n",
       "      <th>Has a property</th>\n",
       "      <th>Children count</th>\n",
       "      <th>Income</th>\n",
       "      <th>Employment status</th>\n",
       "      <th>Education level</th>\n",
       "      <th>Marital status</th>\n",
       "      <th>Dwelling</th>\n",
       "      <th>Age</th>\n",
       "      <th>Employment length</th>\n",
       "      <th>Has a mobile phone</th>\n",
       "      <th>Has a work phone</th>\n",
       "      <th>Has a phone</th>\n",
       "      <th>Has an email</th>\n",
       "      <th>Job title</th>\n",
       "      <th>Family member count</th>\n",
       "      <th>Account age</th>\n",
       "      <th>Is high risk</th>\n",
       "    </tr>\n",
       "  </thead>\n",
       "  <tbody>\n",
       "    <tr>\n",
       "      <th>0</th>\n",
       "      <td>5091261</td>\n",
       "      <td>F</td>\n",
       "      <td>N</td>\n",
       "      <td>Y</td>\n",
       "      <td>0</td>\n",
       "      <td>202500.0</td>\n",
       "      <td>State servant</td>\n",
       "      <td>Secondary / secondary special</td>\n",
       "      <td>Separated</td>\n",
       "      <td>House / apartment</td>\n",
       "      <td>-16834</td>\n",
       "      <td>-1692</td>\n",
       "      <td>1</td>\n",
       "      <td>0</td>\n",
       "      <td>0</td>\n",
       "      <td>0</td>\n",
       "      <td>Medicine staff</td>\n",
       "      <td>1.0</td>\n",
       "      <td>-6.0</td>\n",
       "      <td>0</td>\n",
       "    </tr>\n",
       "    <tr>\n",
       "      <th>1</th>\n",
       "      <td>5096963</td>\n",
       "      <td>M</td>\n",
       "      <td>Y</td>\n",
       "      <td>N</td>\n",
       "      <td>0</td>\n",
       "      <td>675000.0</td>\n",
       "      <td>Commercial associate</td>\n",
       "      <td>Higher education</td>\n",
       "      <td>Married</td>\n",
       "      <td>House / apartment</td>\n",
       "      <td>-18126</td>\n",
       "      <td>-948</td>\n",
       "      <td>1</td>\n",
       "      <td>0</td>\n",
       "      <td>1</td>\n",
       "      <td>0</td>\n",
       "      <td>Managers</td>\n",
       "      <td>2.0</td>\n",
       "      <td>-16.0</td>\n",
       "      <td>0</td>\n",
       "    </tr>\n",
       "    <tr>\n",
       "      <th>2</th>\n",
       "      <td>5087880</td>\n",
       "      <td>F</td>\n",
       "      <td>N</td>\n",
       "      <td>N</td>\n",
       "      <td>0</td>\n",
       "      <td>234000.0</td>\n",
       "      <td>State servant</td>\n",
       "      <td>Higher education</td>\n",
       "      <td>Civil marriage</td>\n",
       "      <td>House / apartment</td>\n",
       "      <td>-21967</td>\n",
       "      <td>-5215</td>\n",
       "      <td>1</td>\n",
       "      <td>0</td>\n",
       "      <td>0</td>\n",
       "      <td>1</td>\n",
       "      <td>Core staff</td>\n",
       "      <td>2.0</td>\n",
       "      <td>-52.0</td>\n",
       "      <td>0</td>\n",
       "    </tr>\n",
       "    <tr>\n",
       "      <th>3</th>\n",
       "      <td>5021949</td>\n",
       "      <td>F</td>\n",
       "      <td>Y</td>\n",
       "      <td>Y</td>\n",
       "      <td>0</td>\n",
       "      <td>445500.0</td>\n",
       "      <td>Commercial associate</td>\n",
       "      <td>Higher education</td>\n",
       "      <td>Married</td>\n",
       "      <td>House / apartment</td>\n",
       "      <td>-12477</td>\n",
       "      <td>-456</td>\n",
       "      <td>1</td>\n",
       "      <td>0</td>\n",
       "      <td>0</td>\n",
       "      <td>0</td>\n",
       "      <td>Managers</td>\n",
       "      <td>2.0</td>\n",
       "      <td>-54.0</td>\n",
       "      <td>0</td>\n",
       "    </tr>\n",
       "    <tr>\n",
       "      <th>4</th>\n",
       "      <td>5105705</td>\n",
       "      <td>F</td>\n",
       "      <td>Y</td>\n",
       "      <td>N</td>\n",
       "      <td>0</td>\n",
       "      <td>225000.0</td>\n",
       "      <td>Working</td>\n",
       "      <td>Secondary / secondary special</td>\n",
       "      <td>Married</td>\n",
       "      <td>Municipal apartment</td>\n",
       "      <td>-12155</td>\n",
       "      <td>-667</td>\n",
       "      <td>1</td>\n",
       "      <td>0</td>\n",
       "      <td>0</td>\n",
       "      <td>0</td>\n",
       "      <td>Laborers</td>\n",
       "      <td>2.0</td>\n",
       "      <td>-48.0</td>\n",
       "      <td>0</td>\n",
       "    </tr>\n",
       "  </tbody>\n",
       "</table>\n",
       "</div>"
      ],
      "text/plain": [
       "        ID Gender Has a car Has a property  Children count    Income  \\\n",
       "0  5091261      F         N              Y               0  202500.0   \n",
       "1  5096963      M         Y              N               0  675000.0   \n",
       "2  5087880      F         N              N               0  234000.0   \n",
       "3  5021949      F         Y              Y               0  445500.0   \n",
       "4  5105705      F         Y              N               0  225000.0   \n",
       "\n",
       "      Employment status                Education level  Marital status  \\\n",
       "0         State servant  Secondary / secondary special       Separated   \n",
       "1  Commercial associate               Higher education         Married   \n",
       "2         State servant               Higher education  Civil marriage   \n",
       "3  Commercial associate               Higher education         Married   \n",
       "4               Working  Secondary / secondary special         Married   \n",
       "\n",
       "              Dwelling    Age  Employment length  Has a mobile phone  \\\n",
       "0    House / apartment -16834              -1692                   1   \n",
       "1    House / apartment -18126               -948                   1   \n",
       "2    House / apartment -21967              -5215                   1   \n",
       "3    House / apartment -12477               -456                   1   \n",
       "4  Municipal apartment -12155               -667                   1   \n",
       "\n",
       "   Has a work phone  Has a phone  Has an email       Job title  \\\n",
       "0                 0            0             0  Medicine staff   \n",
       "1                 0            1             0        Managers   \n",
       "2                 0            0             1      Core staff   \n",
       "3                 0            0             0        Managers   \n",
       "4                 0            0             0        Laborers   \n",
       "\n",
       "   Family member count  Account age  Is high risk  \n",
       "0                  1.0         -6.0             0  \n",
       "1                  2.0        -16.0             0  \n",
       "2                  2.0        -52.0             0  \n",
       "3                  2.0        -54.0             0  \n",
       "4                  2.0        -48.0             0  "
      ]
     },
     "execution_count": 12,
     "metadata": {},
     "output_type": "execute_result"
    }
   ],
   "source": [
    "print(\"Testing Data Shape:\", testing_data.shape)\n",
    "testing_data.head()\n"
   ]
  },
  {
   "cell_type": "code",
   "execution_count": 13,
   "metadata": {},
   "outputs": [
    {
     "name": "stdout",
     "output_type": "stream",
     "text": [
      "<class 'pandas.core.frame.DataFrame'>\n",
      "RangeIndex: 7292 entries, 0 to 7291\n",
      "Data columns (total 20 columns):\n",
      " #   Column               Non-Null Count  Dtype  \n",
      "---  ------               --------------  -----  \n",
      " 0   ID                   7292 non-null   int64  \n",
      " 1   Gender               7292 non-null   object \n",
      " 2   Has a car            7292 non-null   object \n",
      " 3   Has a property       7292 non-null   object \n",
      " 4   Children count       7292 non-null   int64  \n",
      " 5   Income               7292 non-null   float64\n",
      " 6   Employment status    7292 non-null   object \n",
      " 7   Education level      7292 non-null   object \n",
      " 8   Marital status       7292 non-null   object \n",
      " 9   Dwelling             7292 non-null   object \n",
      " 10  Age                  7292 non-null   int64  \n",
      " 11  Employment length    7292 non-null   int64  \n",
      " 12  Has a mobile phone   7292 non-null   int64  \n",
      " 13  Has a work phone     7292 non-null   int64  \n",
      " 14  Has a phone          7292 non-null   int64  \n",
      " 15  Has an email         7292 non-null   int64  \n",
      " 16  Job title            4996 non-null   object \n",
      " 17  Family member count  7292 non-null   float64\n",
      " 18  Account age          7292 non-null   float64\n",
      " 19  Is high risk         7292 non-null   int64  \n",
      "dtypes: float64(3), int64(9), object(8)\n",
      "memory usage: 1.1+ MB\n"
     ]
    }
   ],
   "source": [
    "testing_data.info()"
   ]
  },
  {
   "cell_type": "code",
   "execution_count": 14,
   "metadata": {},
   "outputs": [
    {
     "name": "stdout",
     "output_type": "stream",
     "text": [
      "Missing values in testing data:\n",
      "ID                        0\n",
      "Gender                    0\n",
      "Has a car                 0\n",
      "Has a property            0\n",
      "Children count            0\n",
      "Income                    0\n",
      "Employment status         0\n",
      "Education level           0\n",
      "Marital status            0\n",
      "Dwelling                  0\n",
      "Age                       0\n",
      "Employment length         0\n",
      "Has a mobile phone        0\n",
      "Has a work phone          0\n",
      "Has a phone               0\n",
      "Has an email              0\n",
      "Job title              2296\n",
      "Family member count       0\n",
      "Account age               0\n",
      "Is high risk              0\n",
      "dtype: int64\n"
     ]
    }
   ],
   "source": [
    "print(\"Missing values in testing data:\")\n",
    "print(testing_data.isnull().sum())"
   ]
  },
  {
   "cell_type": "code",
   "execution_count": 15,
   "metadata": {},
   "outputs": [],
   "source": [
    "# Feature Engineering\n",
    "testing_data['Job title'].fillna('Unknown', inplace=True)"
   ]
  },
  {
   "cell_type": "code",
   "execution_count": 16,
   "metadata": {},
   "outputs": [
    {
     "name": "stdout",
     "output_type": "stream",
     "text": [
      "Missing values in testing data:\n",
      "ID                     0\n",
      "Gender                 0\n",
      "Has a car              0\n",
      "Has a property         0\n",
      "Children count         0\n",
      "Income                 0\n",
      "Employment status      0\n",
      "Education level        0\n",
      "Marital status         0\n",
      "Dwelling               0\n",
      "Age                    0\n",
      "Employment length      0\n",
      "Has a mobile phone     0\n",
      "Has a work phone       0\n",
      "Has a phone            0\n",
      "Has an email           0\n",
      "Job title              0\n",
      "Family member count    0\n",
      "Account age            0\n",
      "Is high risk           0\n",
      "dtype: int64\n"
     ]
    }
   ],
   "source": [
    "print(\"Missing values in testing data:\")\n",
    "print(testing_data.isnull().sum())"
   ]
  },
  {
   "cell_type": "code",
   "execution_count": 17,
   "metadata": {},
   "outputs": [],
   "source": [
    "# Data Preprocessing\n",
    "X_train = training_data.drop('Is high risk', axis=1)\n",
    "y_train = training_data['Is high risk']\n",
    "X_test = testing_data.drop('Is high risk', axis=1)\n",
    "y_test = testing_data['Is high risk']"
   ]
  },
  {
   "cell_type": "code",
   "execution_count": 18,
   "metadata": {},
   "outputs": [
    {
     "name": "stderr",
     "output_type": "stream",
     "text": [
      "c:\\Users\\youse\\AppData\\Local\\Programs\\Python\\Python311\\Lib\\site-packages\\sklearn\\preprocessing\\_encoders.py:975: FutureWarning: `sparse` was renamed to `sparse_output` in version 1.2 and will be removed in 1.4. `sparse_output` is ignored unless you leave `sparse` to its default value.\n",
      "  warnings.warn(\n"
     ]
    }
   ],
   "source": [
    "# One-hot encoding categorical columns\n",
    "categorical_cols = ['Gender', 'Marital status', 'Employment status', 'Education level', 'Dwelling', 'Job title', 'Has a car', 'Has a property']\n",
    "encoder = OneHotEncoder(sparse=False, handle_unknown='ignore')\n",
    "X_train_encoded = encoder.fit_transform(X_train[categorical_cols])\n",
    "X_test_encoded = encoder.transform(X_test[categorical_cols])\n",
    "\n",
    "X_train.drop(columns=categorical_cols, inplace=True)\n",
    "X_test.drop(columns=categorical_cols, inplace=True)\n",
    "\n",
    "X_train_preprocessed = pd.concat([X_train, pd.DataFrame(X_train_encoded)], axis=1)\n",
    "X_test_preprocessed = pd.concat([X_test, pd.DataFrame(X_test_encoded)], axis=1)"
   ]
  },
  {
   "cell_type": "code",
   "execution_count": 19,
   "metadata": {},
   "outputs": [],
   "source": [
    "# Convert column names to strings\n",
    "X_train_preprocessed.columns = X_train_preprocessed.columns.astype(str)\n",
    "X_test_preprocessed.columns = X_test_preprocessed.columns.astype(str)\n",
    "\n",
    "# Model Development\n",
    "scaler = StandardScaler()\n",
    "X_train_scaled = scaler.fit_transform(X_train_preprocessed)\n",
    "X_test_scaled = scaler.transform(X_test_preprocessed)\n"
   ]
  },
  {
   "cell_type": "code",
   "execution_count": 20,
   "metadata": {},
   "outputs": [
    {
     "name": "stdout",
     "output_type": "stream",
     "text": [
      "Accuracy: 0.9817608337904553\n",
      "\n",
      "Classification Report:\n",
      "               precision    recall  f1-score   support\n",
      "\n",
      "           0       0.99      1.00      0.99      7175\n",
      "           1       0.31      0.11      0.16       117\n",
      "\n",
      "    accuracy                           0.98      7292\n",
      "   macro avg       0.65      0.55      0.58      7292\n",
      "weighted avg       0.97      0.98      0.98      7292\n",
      "\n"
     ]
    }
   ],
   "source": [
    "from sklearn.ensemble import RandomForestClassifier\n",
    "from sklearn.metrics import accuracy_score, classification_report\n",
    "\n",
    "# Initialize and train the Random Forest classifier\n",
    "rf_classifier = RandomForestClassifier(n_estimators=100, random_state=42)\n",
    "rf_classifier.fit(X_train_scaled, y_train)\n",
    "\n",
    "# Model Evaluation\n",
    "y_pred = rf_classifier.predict(X_test_scaled)\n",
    "accuracy = accuracy_score(y_test, y_pred)\n",
    "print(\"Accuracy:\", accuracy)\n",
    "print(\"\\nClassification Report:\\n\", classification_report(y_test, y_pred))\n"
   ]
  },
  {
   "cell_type": "code",
   "execution_count": 21,
   "metadata": {},
   "outputs": [
    {
     "data": {
      "image/png": "[encoded data removed]",
      "text/plain": [
       "<Figure size 800x600 with 1 Axes>"
      ]
     },
     "metadata": {},
     "output_type": "display_data"
    }
   ],
   "source": [
    "# Confusion Matrix\n",
    "cm = confusion_matrix(y_test, y_pred)\n",
    "plt.figure(figsize=(8, 6))\n",
    "sns.heatmap(cm, annot=True, fmt='d', cmap='Blues', cbar=False, \n",
    "            xticklabels=['Not High Risk', 'High Risk'], \n",
    "            yticklabels=['Not High Risk', 'High Risk'])\n",
    "plt.xlabel('Predicted')\n",
    "plt.ylabel('Actual')\n",
    "plt.title('Confusion Matrix')\n",
    "plt.show()\n"
   ]
  },
  {
   "cell_type": "code",
   "execution_count": 22,
   "metadata": {},
   "outputs": [
    {
     "name": "stdout",
     "output_type": "stream",
     "text": [
      "True Positive (TP): The model correctly predicted the positive class (in your case, approved credit card applications)\n",
      "False Positive (FP): The model incorrectly predicted the positive class when it was actually negative (i.e., it predicted approval when the application should have been rejected)\n",
      "True Negative (TN): The model correctly predicted the negative class (in your case, rejected credit card applications)\n",
      "False Negative (FN): The model incorrectly predicted the negative class when it was actually positive (i.e., it predicted rejection when the application should have been approved)\n",
      "True Positives (TP): 13\n",
      "False Positives (FP): 29\n",
      "True Negatives (TN): 7146\n",
      "False Negatives (FN): 104\n"
     ]
    }
   ],
   "source": [
    " from sklearn.metrics import confusion_matrix\n",
    "print(\"True Positive (TP): The model correctly predicted the positive class (in your case, approved credit card applications)\")\n",
    "print(\"False Positive (FP): The model incorrectly predicted the positive class when it was actually negative (i.e., it predicted approval when the application should have been rejected)\")\n",
    "print(\"True Negative (TN): The model correctly predicted the negative class (in your case, rejected credit card applications)\")\n",
    "print(\"False Negative (FN): The model incorrectly predicted the negative class when it was actually positive (i.e., it predicted rejection when the application should have been approved)\")\n",
    "\n",
    "\n",
    "# Compute confusion matrix\n",
    "conf_matrix = confusion_matrix(y_test, y_pred)\n",
    "\n",
    "# Extract TP, FP, TN, FN from confusion matrix\n",
    "TP = conf_matrix[1, 1]\n",
    "FP = conf_matrix[0, 1]\n",
    "TN = conf_matrix[0, 0]\n",
    "FN = conf_matrix[1, 0]\n",
    "\n",
    "# Print the values\n",
    "print(\"True Positives (TP):\", TP)\n",
    "print(\"False Positives (FP):\", FP)\n",
    "print(\"True Negatives (TN):\", TN)\n",
    "print(\"False Negatives (FN):\", FN)\n"
   ]
  },
  {
   "cell_type": "code",
   "execution_count": 23,
   "metadata": {},
   "outputs": [
    {
     "data": {
      "image/png": "[encoded data removed]",
      "text/plain": [
       "<Figure size 1000x800 with 1 Axes>"
      ]
     },
     "metadata": {},
     "output_type": "display_data"
    }
   ],
   "source": [
    "# Feature Importance Plot\n",
    "feature_importances = pd.Series(rf_classifier.feature_importances_, index=X_train_preprocessed.columns)\n",
    "feature_importances.nlargest(10).plot(kind='barh', figsize=(10, 8))\n",
    "plt.xlabel('Relative Importance')\n",
    "plt.ylabel('Features')\n",
    "plt.title('Top 10 Most Important Features')\n",
    "plt.show()"
   ]
  },
  {
   "cell_type": "code",
   "execution_count": 24,
   "metadata": {},
   "outputs": [
    {
     "name": "stdout",
     "output_type": "stream",
     "text": [
      "Recommendations:\n",
      "Based on the analysis, it's recommended to conduct further investigation into feature engineering to create new features or transform existing ones to potentially improve model performance.\n",
      "Additionally, experimenting with other classification algorithms such as logistic regression, decision trees, or boosting algorithms could help identify the best-performing model.\n",
      "Finally, actionable recommendations should be provided to stakeholders to aid in reducing risk and improving the credit card approval process.\n"
     ]
    }
   ],
   "source": [
    "# Recommendations\n",
    "print(\"Recommendations:\")\n",
    "print(\"Based on the analysis, it's recommended to conduct further investigation into feature engineering to create new features or transform existing ones to potentially improve model performance.\")\n",
    "print(\"Additionally, experimenting with other classification algorithms such as logistic regression, decision trees, or boosting algorithms could help identify the best-performing model.\")\n",
    "print(\"Finally, actionable recommendations should be provided to stakeholders to aid in reducing risk and improving the credit card approval process.\")"
   ]
  }
 ],
 "metadata": {
  "kernelspec": {
   "display_name": "Python 3",
   "language": "python",
   "name": "python3"
  },
  "language_info": {
   "codemirror_mode": {
    "name": "ipython",
    "version": 3
   },
   "file_extension": ".py",
   "mimetype": "text/x-python",
   "name": "python",
   "nbconvert_exporter": "python",
   "pygments_lexer": "ipython3",
   "version": "3.11.5"
  }
 },
 "nbformat": 4,
 "nbformat_minor": 2
}
